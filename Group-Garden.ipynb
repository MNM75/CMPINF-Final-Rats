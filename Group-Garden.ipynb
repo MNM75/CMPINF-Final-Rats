{
 "cells": [
  {
   "cell_type": "markdown",
   "id": "e2608661-e9cc-4098-9a82-db0b07d60b73",
   "metadata": {},
   "source": [
    "# Gardens"
   ]
  },
  {
   "cell_type": "markdown",
   "id": "8d2f8d5d-24d7-48ca-a9c6-e1d34a2fec1d",
   "metadata": {},
   "source": [
    "Trash is always a reliable source of food, but sometimes it can be nice to get a fresh meal. You can't purchase produce from your local farmers market, but what about scavenging your local food garden? This dataset looks at the locations of Grow Pittsburgh Food Gard in Allegheny County."
   ]
  },
  {
   "cell_type": "code",
   "execution_count": 8,
   "id": "ef5009d6-3370-4f7b-b324-ca8225640ef4",
   "metadata": {},
   "outputs": [],
   "source": [
    "import pandas as pd\n",
    "import numpy as np\n",
    "%matplotlib inline\n",
    "import matplotlib.pyplot as plt\n",
    "from tqdm import tqdm\n",
    "from fpsnippets import zip_to_neighborhoods, ZIPS, NEIGHBORHOODS"
   ]
  },
  {
   "cell_type": "markdown",
   "id": "3398402a-fd83-4a21-b2a7-16d5ff7d5fa3",
   "metadata": {},
   "source": [
    "We'll use the same helper function from fpsnippets.py to convert the zip codes of the various public gardent to their corresponding City of Pittsburgh neighborhood while masking any entries not within Pittsburgh."
   ]
  },
  {
   "cell_type": "code",
   "execution_count": 1,
   "id": "a853ba21-8c6c-4ce1-9846-7a2f1b608b55",
   "metadata": {},
   "outputs": [
    {
     "ename": "NameError",
     "evalue": "name 'pitt' is not defined",
     "output_type": "error",
     "traceback": [
      "\u001b[0;31m---------------------------------------------------------------------------\u001b[0m",
      "\u001b[0;31mNameError\u001b[0m                                 Traceback (most recent call last)",
      "Cell \u001b[0;32mIn[1], line 1\u001b[0m\n\u001b[0;32m----> 1\u001b[0m all_hoods \u001b[38;5;241m=\u001b[39m [n \u001b[38;5;28;01mfor\u001b[39;00m sublist \u001b[38;5;129;01min\u001b[39;00m pitt[\u001b[38;5;124m'\u001b[39m\u001b[38;5;124mneighborhoods\u001b[39m\u001b[38;5;124m'\u001b[39m]\u001b[38;5;241m.\u001b[39mdropna() \u001b[38;5;28;01mfor\u001b[39;00m n \u001b[38;5;129;01min\u001b[39;00m sublist]\n\u001b[1;32m      2\u001b[0m garden_counts \u001b[38;5;241m=\u001b[39m Counter(all_hoods)\n\u001b[1;32m      4\u001b[0m garden_df \u001b[38;5;241m=\u001b[39m pd\u001b[38;5;241m.\u001b[39mDataFrame(garden_counts\u001b[38;5;241m.\u001b[39mitems(), columns\u001b[38;5;241m=\u001b[39m[\u001b[38;5;124m'\u001b[39m\u001b[38;5;124mNeighborhood\u001b[39m\u001b[38;5;124m'\u001b[39m, \u001b[38;5;124m'\u001b[39m\u001b[38;5;124mGardenCount\u001b[39m\u001b[38;5;124m'\u001b[39m])\n",
      "\u001b[0;31mNameError\u001b[0m: name 'pitt' is not defined"
     ]
    }
   ],
   "source": [
    "all_hoods = [n for sublist in pitt['neighborhoods'].dropna() for n in sublist]\n",
    "garden_counts = Counter(all_hoods)\n",
    "\n",
    "garden_df = pd.DataFrame(garden_counts.items(), columns=['Neighborhood', 'GardenCount'])\n",
    "garden_df = garden_df.sort_values(by='GardenCount', ascending=False)\n",
    "\n",
    "def plot_bar(df, xcol, ycol, title, xlabel='Neighborhood', ylabel='Number of Gardens', rotation=90, top_n=None):\n",
    "    plt.figure(figsize=(14, 6))\n",
    "    plot_df = df if top_n is None else df.head(top_n)\n",
    "    plt.bar(plot_df[xcol], plot_df[ycol], color='green')  # <- green bars here\n",
    "    plt.title(title)\n",
    "    plt.xlabel(xlabel)\n",
    "    plt.ylabel(ylabel)\n",
    "    plt.xticks(rotation=rotation, ha='right')\n",
    "    plt.tight_layout()\n",
    "    plt.show()\n",
    "\n",
    "plot_bar(\n",
    "    garden_df,\n",
    "    'Neighborhood',\n",
    "    'GardenCount',\n",
    "    title='All Neighborhoods by Garden Count',\n",
    "    rotation=90\n",
    ")\n",
    "\n",
    "plot_bar(\n",
    "    garden_df,\n",
    "    'Neighborhood',\n",
    "    'GardenCount',\n",
    "    title='Top 20 Neighborhoods by Garden Count',\n",
    "    rotation=45,\n",
    "    top_n=20\n",
    ")"
   ]
  },
  {
   "cell_type": "markdown",
   "id": "2fb8bdf9-846d-45ac-a5a1-116742b720d9",
   "metadata": {},
   "source": [
    "Looks like Shadyside has twenty-five Grow Pittsburgh Food Gardens. A great place to be a rat, if not for all the squirrels :("
   ]
  },
  {
   "cell_type": "code",
   "execution_count": null,
   "id": "0ddb6189-64a5-4c38-b716-6a4df3dc6bd3",
   "metadata": {},
   "outputs": [],
   "source": []
  }
 ],
 "metadata": {
  "kernelspec": {
   "display_name": "Python 3 (ipykernel)",
   "language": "python",
   "name": "python3"
  },
  "language_info": {
   "codemirror_mode": {
    "name": "ipython",
    "version": 3
   },
   "file_extension": ".py",
   "mimetype": "text/x-python",
   "name": "python",
   "nbconvert_exporter": "python",
   "pygments_lexer": "ipython3",
   "version": "3.11.5"
  }
 },
 "nbformat": 4,
 "nbformat_minor": 5
}
