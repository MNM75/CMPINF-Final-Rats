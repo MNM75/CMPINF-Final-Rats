{
 "cells": [
  {
   "cell_type": "markdown",
   "id": "01a3f6ea-c453-485c-9bcb-834f46c87be6",
   "metadata": {},
   "source": [
    "(I have to import the zipcode to neighborhood converter in the microsoft teams chat."
   ]
  },
  {
   "cell_type": "code",
   "execution_count": 1,
   "id": "9c419c2d-9f90-4224-bfc4-4e1e089fc441",
   "metadata": {},
   "outputs": [],
   "source": [
    "import pandas as pd\n",
    "import fpsnippets"
   ]
  },
  {
   "cell_type": "code",
   "execution_count": 3,
   "id": "a7e46003-2ff5-46e9-8652-7dd3f0f9300b",
   "metadata": {},
   "outputs": [],
   "source": [
    "dogs = pd.read_csv(\"Dogs.csv\")"
   ]
  },
  {
   "cell_type": "code",
   "execution_count": null,
   "id": "c57ec787-e4df-475b-88fe-ded34cf37251",
   "metadata": {},
   "outputs": [],
   "source": []
  }
 ],
 "metadata": {
  "kernelspec": {
   "display_name": "Python 3 (ipykernel)",
   "language": "python",
   "name": "python3"
  },
  "language_info": {
   "codemirror_mode": {
    "name": "ipython",
    "version": 3
   },
   "file_extension": ".py",
   "mimetype": "text/x-python",
   "name": "python",
   "nbconvert_exporter": "python",
   "pygments_lexer": "ipython3",
   "version": "3.11.5"
  }
 },
 "nbformat": 4,
 "nbformat_minor": 5
}
